{
 "cells": [
  {
   "cell_type": "markdown",
   "id": "243bc29c-d393-4b9a-b443-a89a6a28714a",
   "metadata": {},
   "source": [
    "# Task 1 : Generative Classification approach (QDA model)"
   ]
  },
  {
   "cell_type": "code",
   "execution_count": 29,
   "id": "0aebd363-e7d8-4e9f-94f9-5942da357858",
   "metadata": {},
   "outputs": [],
   "source": [
    "import torch\n",
    "import numpy as np\n",
    "import pandas as pd\n",
    "from sklearn.model_selection import train_test_split\n",
    "from sklearn.preprocessing import StandardScaler\n",
    "import warnings\n",
    "from sklearn.decomposition import PCA\n",
    "from scipy.stats import chi2\n",
    "import matplotlib.pyplot as plt\n",
    "from sklearn.preprocessing import PowerTransformer\n",
    "import torchvision.models as models\n",
    "import torch.nn as nn\n",
    "from torchvision import transforms\n",
    "warnings.filterwarnings(\"ignore\")"
   ]
  },
  {
   "cell_type": "markdown",
   "id": "3b50a74d-babc-43bb-96de-bd5a0cb282d1",
   "metadata": {},
   "source": [
    "## Extracting features using EfficientNet B4"
   ]
  },
  {
   "cell_type": "markdown",
   "id": "c7eb22c0-a111-4885-9770-42e70c37bb30",
   "metadata": {},
   "source": [
    "We first used pre-trained EfficientNet B4 model to extract relevant features. We stored this datasets for future use. \n"
   ]
  },
  {
   "cell_type": "code",
   "execution_count": null,
   "id": "6acec19c-702e-41a7-bd38-53ca8e9138a6",
   "metadata": {},
   "outputs": [],
   "source": [
    "#LOADING DATASETS\n",
    "\n",
    "path = r\"C:\\Users\\there\\Desktop\\Code\\dataset\\part_one_dataset\"\n",
    "path2 = r\"C:\\Users\\there\\Desktop\\Code\\dataset\\part_two_dataset\"\n",
    "\n",
    "traindata = [torch.load(f\"{path}\\\\train_data\\\\{i}_train_data.tar.pth\", map_location=torch.device('cpu')) for i in range(1, 11)]+[torch.load(f\"{path2}\\\\train_data\\\\{i}_train_data.tar.pth\", map_location=torch.device('cpu')) for i in range(1, 11)]\n",
    "evaldata = [torch.load(f\"{path}\\\\eval_data\\\\{i}_eval_data.tar.pth\", map_location=torch.device('cpu')) for i in range(1, 11)]+[torch.load(f\"{path2}\\\\eval_data\\\\{i}_eval_data.tar.pth\", map_location=torch.device('cpu')) for i in range(1, 11)]"
   ]
  },
  {
   "cell_type": "code",
   "execution_count": null,
   "id": "6696558a-a7b8-42f9-8933-54820a9d0028",
   "metadata": {},
   "outputs": [],
   "source": [
    "# Load the pretrained model\n",
    "model = models.efficientnet_b4(pretrained=True)\n",
    "\n",
    "# Remove the last fully connected layer\n",
    "# Replace it with an identity layer to output the raw features\n",
    "model.fc = nn.Identity()\n",
    "\n",
    "# Set model to evaluation mode\n",
    "model.eval()"
   ]
  },
  {
   "cell_type": "code",
   "execution_count": 30,
   "id": "7ea279b0-6518-4309-93d5-427b9644e47e",
   "metadata": {},
   "outputs": [],
   "source": [
    "#DEFINING WRAPPER FUNCTION FOR FEATURE EXTRACTION\n",
    "\n",
    "def process_batch(batch, model, preprocess):\n",
    "    batch_tensors = []\n",
    "    for img_array in batch:\n",
    "        # Convert numpy array to torch.Tensor and process as before\n",
    "        img_tensor = torch.from_numpy(img_array).permute(2, 0, 1).float() / 255.0  # Shape: [C, H, W]\n",
    "        \n",
    "        # Apply any additional preprocessing transformations if needed\n",
    "        img_tensor = preprocess(img_tensor)\n",
    "        \n",
    "        # Add batch dimension (resulting in shape: [1, C, H, W])\n",
    "        batch_tensors.append(img_tensor.unsqueeze(0))\n",
    "\n",
    "    # Stack batch tensors along the batch dimension (shape: [batch_size, C, H, W])\n",
    "    batch_tensor = torch.cat(batch_tensors, dim=0)\n",
    "    \n",
    "    # Extract features for the batch\n",
    "    with torch.no_grad():  # Disable gradient computation\n",
    "        batch_features = model(batch_tensor)  # Forward pass\n",
    "    return batch_features\n",
    "\n",
    "\n",
    "\n",
    "def extract(traindata):\n",
    "    preprocess = transforms.Compose([\n",
    "        transforms.Resize(256),\n",
    "        transforms.CenterCrop(224),\n",
    "        transforms.Normalize(mean=[0.485, 0.456, 0.406], std=[0.229, 0.224, 0.225]),\n",
    "    ])\n",
    "\n",
    "    # Apply the transformations to the image\n",
    "    # Example usage\n",
    "    \n",
    "    X = traindata['data']\n",
    "    \n",
    "\n",
    "    X_effnet = []\n",
    "    batch_size = 64  # Choose a batch size that fits your memory requirements\n",
    "    #model.eval()  # Set the model to evaluation mode\n",
    "\n",
    "    # Process data in batches\n",
    "    for i in range(0, len(X), batch_size):\n",
    "        batch = X[i:i + batch_size]  # Slice out a batch from X\n",
    "        batch_features = process_batch(batch, model, preprocess)  # Process batch\n",
    "        X_effnet.append(batch_features)  # Collect the batch features\n",
    "\n",
    "    # Concatenate all batch features to form the final feature matrix\n",
    "    X_effnet = torch.cat(X_resnet, dim=0)\n",
    "    return X_effnet"
   ]
  },
  {
   "cell_type": "code",
   "execution_count": null,
   "id": "39dd0323-8c87-406a-b1eb-dda489dcd65e",
   "metadata": {},
   "outputs": [],
   "source": [
    "for i in range(20):\n",
    "    train=extract(traindata[i])\n",
    "    torch.save(train, f\"extracted_data\\X_train_{i+1}.pth\")\n",
    "for i in range(20):\n",
    "    eval=extract(evaldata[i])\n",
    "    torch.save(eval, f\"EffNet_sets_data\\X_eval_{i+1}.pth\")"
   ]
  },
  {
   "cell_type": "markdown",
   "id": "0ddc4a82-8eb0-4a1a-bd95-e2087e366e37",
   "metadata": {},
   "source": [
    "## Exploring the dataset"
   ]
  },
  {
   "cell_type": "markdown",
   "id": "5e291490-a8dc-4426-b704-c3a657534922",
   "metadata": {},
   "source": [
    "We load in the first dataset."
   ]
  },
  {
   "cell_type": "code",
   "execution_count": 6,
   "id": "32ae1d51-7fcd-4468-bea8-85299a5c344a",
   "metadata": {},
   "outputs": [],
   "source": [
    "traindata_1 = torch.load(r\"C:\\Users\\ARITRA\\Documents\\Notebooks\\CS771_MiniProject2\\dataset\\dataset\\part_one_dataset\\train_data\\1_train_data.tar.pth\")\n",
    "X = torch.load(r\"train_data_1_resnet.pt\")\n",
    "y = traindata_1['targets']"
   ]
  },
  {
   "cell_type": "code",
   "execution_count": 7,
   "id": "4a99f054-2369-4900-a87e-fa075d4b063f",
   "metadata": {},
   "outputs": [
    {
     "data": {
      "text/plain": [
       "torch.Size([2500, 2048])"
      ]
     },
     "execution_count": 7,
     "metadata": {},
     "output_type": "execute_result"
    }
   ],
   "source": [
    "X.shape"
   ]
  },
  {
   "cell_type": "code",
   "execution_count": 8,
   "id": "eb1a8cdc-6e38-4994-8803-c8e98b8def77",
   "metadata": {},
   "outputs": [
    {
     "data": {
      "text/plain": [
       "(2500,)"
      ]
     },
     "execution_count": 8,
     "metadata": {},
     "output_type": "execute_result"
    }
   ],
   "source": [
    "y.shape"
   ]
  },
  {
   "cell_type": "code",
   "execution_count": 14,
   "id": "3847d470-f132-43a4-a4b6-509fa38acdc4",
   "metadata": {},
   "outputs": [
    {
     "data": {
      "image/png": "[encoded data removed]",
      "text/plain": [
       "<Figure size 640x480 with 1 Axes>"
      ]
     },
     "metadata": {},
     "output_type": "display_data"
    }
   ],
   "source": [
    "# Step 1: Dimensionality Reduction\n",
    "data = X\n",
    "pca = PCA(n_components=50)  # Reduce to 50 dimensions (or another chosen number)\n",
    "reduced_data = pca.fit_transform(data)\n",
    "\n",
    "# Step 2: Calculate Mahalanobis Distances in Reduced Dimension\n",
    "mean = np.mean(reduced_data, axis=0)\n",
    "cov = np.cov(reduced_data, rowvar=False)\n",
    "inv_cov = np.linalg.inv(cov)\n",
    "mahalanobis_dists = [np.sqrt((x - mean).T @ inv_cov @ (x - mean)) for x in reduced_data]\n",
    "\n",
    "# Step 3: Plot Q-Q Plot for Mahalanobis Distances\n",
    "chi2_quantiles = chi2.ppf(np.linspace(0.001, 0.999, len(mahalanobis_dists)), df=50)\n",
    "plt.plot(np.sort(chi2_quantiles), np.sort(np.square(mahalanobis_dists)), 'o')\n",
    "plt.plot([0, max(chi2_quantiles)], [0, max(chi2_quantiles)], color='r', lw=2)\n",
    "plt.xlabel(\"Theoretical Chi-Square Quantiles\")\n",
    "plt.ylabel(\"Observed Mahalanobis Distances Squared\")\n",
    "plt.title(\"Q-Q Plot of Mahalanobis Distances in Reduced Dimension\")\n",
    "plt.show()"
   ]
  },
  {
   "cell_type": "markdown",
   "id": "493fd9e3-0125-4314-805c-aff7fc14b698",
   "metadata": {},
   "source": [
    "This shows our data is deviating a lot from Gaussian."
   ]
  },
  {
   "cell_type": "markdown",
   "id": "616fc1e2-5c5f-47ed-94f3-71d92f3264cf",
   "metadata": {},
   "source": [
    "So we convert it into a Gaussian with mean 0 and SD 1, as we are later going to use generative classification based approaches with Gaussian modelling."
   ]
  },
  {
   "cell_type": "code",
   "execution_count": null,
   "id": "bcd29630-6acd-4a15-a8fc-3749d39b4769",
   "metadata": {},
   "outputs": [],
   "source": [
    "data = X\n",
    "# Apply Standard Scaling\n",
    "scaler = StandardScaler()\n",
    "standardized_data = scaler.fit_transform(data)  # Shape: (n_samples, 2048)\n",
    "\n",
    "# Apply Yeo-Johnson transformation to convert skewed distribution to Gaussian\n",
    "transformer = PowerTransformer(method='yeo-johnson')\n",
    "yeo_johnson_data = transformer.fit_transform(standardized_data)  # Shape: (n_samples, 2048)\n",
    "from sklearn.decomposition import PCA\n",
    "\n",
    "# Perform PCA on the transformed data to obtain independent components\n",
    "pca = PCA(n_components=50)  # Keep full dimensionality (or reduce if necessary)\n",
    "pca_data_before = pca.fit_transform(yeo_johnson_data)  # Shape: (n_samples, 2048)\n",
    "\n",
    "# Standardize the PCA-transformed data to mean 0 and standard deviation 1\n",
    "pca_data = (pca_data_before - np.mean(pca_data_before, axis=0)) / np.std(pca_data_before, axis=0)"
   ]
  },
  {
   "cell_type": "code",
   "execution_count": 16,
   "id": "88592f32-3564-4a4b-afed-3dc56d5ba766",
   "metadata": {},
   "outputs": [
    {
     "data": {
      "image/png": "[encoded data removed]",
      "text/plain": [
       "<Figure size 640x480 with 1 Axes>"
      ]
     },
     "metadata": {},
     "output_type": "display_data"
    }
   ],
   "source": [
    "import numpy as np\n",
    "from sklearn.decomposition import PCA\n",
    "from scipy.stats import chi2\n",
    "import matplotlib.pyplot as plt\n",
    "\n",
    "# Assuming 'data' is your high-dimensional dataset\n",
    "# Step 1: Dimensionality Reduction\n",
    "\"\"\"data = X\n",
    "pca = PCA(n_components=50)  # Reduce to 50 dimensions (or another chosen number)\"\"\"\n",
    "reduced_data = pca_data\n",
    "\n",
    "# Step 2: Calculate Mahalanobis Distances in Reduced Dimension\n",
    "mean = np.mean(reduced_data, axis=0)\n",
    "cov = np.cov(reduced_data, rowvar=False)\n",
    "inv_cov = np.linalg.inv(cov)\n",
    "mahalanobis_dists = [np.sqrt((x - mean).T @ inv_cov @ (x - mean)) for x in reduced_data]\n",
    "\n",
    "# Step 3: Plot Q-Q Plot for Mahalanobis Distances\n",
    "chi2_quantiles = chi2.ppf(np.linspace(0.001, 0.999, len(mahalanobis_dists)), df=50)\n",
    "plt.plot(np.sort(chi2_quantiles), np.sort(np.square(mahalanobis_dists)), 'o')\n",
    "plt.plot([0, max(chi2_quantiles)], [0, max(chi2_quantiles)], color='r', lw=2)\n",
    "plt.xlabel(\"Theoretical Chi-Square Quantiles\")\n",
    "plt.ylabel(\"Observed Mahalanobis Distances Squared\")\n",
    "plt.title(\"Q-Q Plot of Mahalanobis Distances in Reduced Dimension\")\n",
    "plt.show()"
   ]
  },
  {
   "cell_type": "markdown",
   "id": "be793759-f900-44f8-b2cb-2e012d78f845",
   "metadata": {},
   "source": [
    "We can see our data now closely fits with the Gaussian distribution."
   ]
  },
  {
   "cell_type": "markdown",
   "id": "c96d54ad-f0c7-4c01-bdbf-1357c2e22423",
   "metadata": {},
   "source": [
    "## Preprocessing our data"
   ]
  },
  {
   "cell_type": "markdown",
   "id": "ceebde57-c1c8-4454-a181-b3fead3b2f09",
   "metadata": {},
   "source": [
    "This is our preprocessing pipeline."
   ]
  },
  {
   "cell_type": "code",
   "execution_count": 19,
   "id": "5951dc46-37c1-48a7-b2ed-943d6d5777ef",
   "metadata": {},
   "outputs": [],
   "source": [
    "class PreprocessingPipeline:\n",
    "    def __init__(self, n_components=50):\n",
    "        self.scaler = StandardScaler()\n",
    "        self.transformer = PowerTransformer(method='yeo-johnson')\n",
    "        self.pca = PCA(n_components=n_components)\n",
    "        self.pca_mean = None\n",
    "        self.pca_std = None\n",
    "\n",
    "    def fit_transform(self, X_train):\n",
    "        \"\"\"\n",
    "        Fits the preprocessing pipeline on the training set and applies transformations.\n",
    "        \n",
    "        Parameters:\n",
    "n: ndarray of shape (n_samples, n_features), training data.\n",
    "        \n",
    "        Returns:\n",
    "        - pca_train: Preprocessed training data.\n",
    "        \"\"\"\n",
    "        # Step 1: Standardization\n",
    "        standardized_train = self.scaler.fit_transform(X_train)\n",
    "\n",
    "        # Step 2: Yeo-Johnson Transformation\n",
    "        transformed_train = self.transformer.fit_transform(standardized_train)\n",
    "\n",
    "        # Step 3: PCA\n",
    "        pca_train = self.pca.fit_transform(transformed_train)\n",
    "\n",
    "        # Step 4: Standardize PCA-transformed data\n",
    "        self.pca_mean = np.mean(pca_train, axis=0)\n",
    "        self.pca_std = np.std(pca_train, axis=0)\n",
    "        pca_train_standardized = (pca_train - self.pca_mean) / self.pca_std\n",
    "\n",
    "        return pca_train_standardized\n",
    "\n",
    "    def transform(self, X):\n",
    "        \"\"\"\n",
    "        Applies the fitted preprocessing pipeline to new data.\n",
    "\n",
    "        Parameters:\n",
    "        - X: ndarray of shape (n_samples, n_features), data to preprocess.\n",
    "        \n",
    "        Returns:\n",
    "        - pca_transformed: Preprocessed data.\n",
    "        \"\"\"\n",
    "        # Step 1: Standardization\n",
    "        standardized = self.scaler.transform(X)\n",
    "\n",
    "        # Step 2: Yeo-Johnson Transformation\n",
    "        transformed = self.transformer.transform(standardized)\n",
    "\n",
    "        # Step 3: PCA\n",
    "        pca_transformed = self.pca.transform(transformed)\n",
    "\n",
    "        # Step 4: Standardize PCA-transformed data using training set stats\n",
    "        pca_transformed_standardized = (pca_transformed - self.pca_mean) / self.pca_std\n",
    "\n",
    "        return pca_transformed_standardized\n"
   ]
  },
  {
   "cell_type": "markdown",
   "id": "6c9bc628-17cb-4dee-9f1a-96dba9fd3910",
   "metadata": {},
   "source": [
    "We prepare all our training and evaluation datasets next."
   ]
  },
  {
   "cell_type": "code",
   "execution_count": 24,
   "id": "256709db-f0f9-4bb7-aa60-7aee661d20fd",
   "metadata": {},
   "outputs": [],
   "source": [
    "path = r\"C:\\Users\\ARITRA\\Documents\\Notebooks\\CS771_MiniProject2\\dataset\\dataset\\part_one_dataset\"\n",
    "\n",
    "traindata_1 = torch.load(f\"{path}\\\\train_data\\\\1_train_data.tar.pth\", map_location=torch.device('cpu'))\n",
    "y_train_1 = traindata_1['targets']\n",
    "\n",
    "evaldata = [torch.load(f\"{path}\\\\eval_data\\\\{i}_eval_data.tar.pth\", map_location=torch.device('cpu')) for i in range(1, 11)]\n",
    "y_test=[i['targets'] for i in evaldata]\n",
    "\n",
    "pipeline=PreprocessingPipeline()\n",
    "\n",
    "X_train=[pipeline.fit_transform(torch.load('extracted_data/X_train_1.pth'))]+[pipeline.transform(torch.load(f'extracted_data/X_train_{i}.pth')) for i in range(2,11)]\n",
    "X_eval=[pipeline.transform(torch.load(f'extracted_data/X_eval_{i}.pth')) for i in range(1,11)]"
   ]
  },
  {
   "cell_type": "markdown",
   "id": "0eae9dc0-ff36-4545-8c38-47c5012a1701",
   "metadata": {},
   "source": [
    "## Our Model"
   ]
  },
  {
   "cell_type": "markdown",
   "id": "d55fe624-219f-430d-81ff-1fff30f13a67",
   "metadata": {},
   "source": [
    "We are using a generative classification model (the probabilistic counterpart of LwP). Specifically we are using the Quadratic Discriminant Analysis model."
   ]
  },
  {
   "cell_type": "code",
   "execution_count": 22,
   "id": "784d4ea0-c102-42a4-ae92-0af351196b2c",
   "metadata": {},
   "outputs": [],
   "source": [
    "import numpy as np\n",
    "from scipy.stats import multivariate_normal\n",
    "\n",
    "class QDAClassifier:\n",
    "    def __init__(self):\n",
    "        self.class_means = {}\n",
    "        self.class_covariances = {}\n",
    "        self.class_priors = {}\n",
    "        self.class_counts = {}\n",
    "        self.total_samples = 0\n",
    "    \n",
    "    def fit(self, X, y): # For getting the means, covariances and class priors from our initial training data\n",
    "        \"\"\"\n",
    "        Fits the QDA model to the data.\n",
    "\n",
    "        Parameters:\n",
    "        - X: ndarray of shape (n_samples, n_features), training data\n",
    "        - y: ndarray of shape (n_samples,), class labels\n",
    "        \"\"\"\n",
    "        self.total_samples = X.shape[0]\n",
    "        classes = np.unique(y)\n",
    "        \n",
    "        for c in classes:\n",
    "            # Get data points belonging to class c\n",
    "            class_data = X[y == c]\n",
    "            class_count = class_data.shape[0]\n",
    "            \n",
    "            # Compute class-specific statistics\n",
    "            self.class_means[c] = np.mean(class_data, axis=0)\n",
    "            self.class_covariances[c] = np.cov(class_data, rowvar=False)\n",
    "            self.class_priors[c] = class_count / self.total_samples\n",
    "            self.class_counts[c] = class_count\n",
    "\n",
    "    def predict(self, X): #Predicting the class of test examples by computing posterior\n",
    "        \"\"\"\n",
    "        Predict the class labels for a dataset X.\n",
    "    \n",
    "        Parameters:\n",
    "        - X: ndarray of shape (n_samples, n_features), the input data matrix.\n",
    "    \n",
    "        Returns:\n",
    "        - predictions: ndarray of shape (n_samples,), the predicted class labels for each sample.\n",
    "        \"\"\"\n",
    "        n_samples = X.shape[0]\n",
    "        predictions = np.zeros(n_samples, dtype=int)  # Initialize predictions array\n",
    "        \n",
    "        # Get the classes from the keys of class_means\n",
    "        classes = list(self.class_means.keys())\n",
    "    \n",
    "        for i in range(n_samples):\n",
    "            posteriors = []\n",
    "            for c in classes:\n",
    "                # Compute likelihood P(x | y = c) using the multivariate Gaussian PDF\n",
    "                mean = self.class_means[c]\n",
    "                cov = self.class_covariances[c]\n",
    "                prior = self.class_priors[c]\n",
    "                likelihood = multivariate_normal.pdf(X[i], mean=mean, cov=cov)\n",
    "    \n",
    "                # Compute posterior P(y = c | x) = P(x | y = c) * P(y = c)\n",
    "                posterior = likelihood * prior\n",
    "                posteriors.append(posterior)\n",
    "            \n",
    "            # Predict the class with the highest posterior\n",
    "            predictions[i] = classes[np.argmax(posteriors)]\n",
    "        \n",
    "        return predictions\n",
    "    \n",
    "    def get_class_statistics(self): #Getting the current stored mean, covariance and prior for each class\n",
    "        \"\"\"\n",
    "        Returns the learned statistics for each class.\n",
    "        \n",
    "        Returns:\n",
    "        - class_means: dict of class means\n",
    "        - class_covariances: dict of class covariance matrices\n",
    "        - class_priors: dict of class priors\n",
    "        - class_counts: dict of the number of samples per class\n",
    "        \"\"\"\n",
    "        return {\n",
    "            'means': self.class_means,\n",
    "            'covariances': self.class_covariances,\n",
    "            'priors': self.class_priors,\n",
    "            'counts': self.class_counts,\n",
    "        }\n",
    "        \n",
    "    def update(self, X): # For updating model f_i to f_i+1, by first predicting labels of unlabelled dataset, then training on this new dataset, and\n",
    "                         # finally updating the model parameters by weighted average - taking into account the no. of training examples seen till now  \n",
    "                         # and the no. of new test examples.\n",
    "    # Step 2: Predict labels\n",
    "        predicted_labels = self.predict(X)\n",
    "    \n",
    "    # Step 3: Update statistics per class\n",
    "        for c in self.class_means.keys():\n",
    "            # Get new samples for class c\n",
    "            new_samples = X[predicted_labels == c]\n",
    "            new_count = new_samples.shape[0]\n",
    "            if new_count == 0:\n",
    "                continue  # No new samples for this class\n",
    "        \n",
    "            # Update mean\n",
    "            current_mean = self.class_means[c]\n",
    "            current_count = self.class_counts[c]\n",
    "            new_mean = (current_mean * current_count + new_samples.sum(axis=0)) / (current_count + new_count)\n",
    "        \n",
    "            # Update covariance\n",
    "            current_cov = self.class_covariances[c]\n",
    "            scatter_current = current_cov * current_count\n",
    "            scatter_new = np.cov(new_samples, rowvar=False) * new_count\n",
    "            scatter_updated = scatter_current + scatter_new\n",
    "            updated_cov = scatter_updated / (current_count + new_count)\n",
    "        \n",
    "        # Update priors, counts, etc.\n",
    "            self.class_means[c] = new_mean\n",
    "            self.class_covariances[c] = updated_cov\n",
    "            self.class_counts[c] += new_count\n",
    "            self.class_priors[c] = self.class_counts[c] / self.total_samples\n",
    "\n",
    "    # Update total sample count\n",
    "        self.total_samples += X.shape[0]\n",
    "\n",
    "     def mod_update(self, X, h): #This is used exclusively in Task 2, will be explained there\n",
    "        predicted_labels = self.predict(X)\n",
    "        for c in self.class_means.keys():\n",
    "            # Get new samples for class c\n",
    "            new_samples = X[predicted_labels == c]\n",
    "            new_count = new_samples.shape[0]\n",
    "            if new_count == 0:\n",
    "                continue  # No new samples for this class\n",
    "        \n",
    "            # Update mean\n",
    "            current_mean = self.class_means[c]\n",
    "            # current_count = self.class_counts[c]\n",
    "            new_mean = current_mean *(1-h) + (h)*new_samples.sum(axis=0)/new_count\n",
    "        \n",
    "            # Update covariance\n",
    "            current_cov = self.class_covariances[c]\n",
    "            scatter_current = current_cov * (1-h)\n",
    "            scatter_new = np.cov(new_samples, rowvar=False) * h\n",
    "            scatter_updated = scatter_current + scatter_new\n",
    "            updated_cov = scatter_updated\n",
    "        \n",
    "        # Update priors, counts, etc.\n",
    "            self.class_means[c] = new_mean\n",
    "            self.class_covariances[c] = updated_cov\n",
    "            self.class_priors[c] = self.class_counts[c]*(1-h) + new_count*h\n",
    "            self.class_counts[c] += new_count"
   ]
  },
  {
   "cell_type": "markdown",
   "id": "ec3f606c-9a2d-411a-b13f-9e17c3a554c1",
   "metadata": {},
   "source": [
    "Next we train the generative LwP model on the labelled dataset 1. Then we subsequently use the update function which a) generates predicted labels for each successive dataset and b) updates all the parameters - mean, covariance and class priors in a weighted fashion, using number of past examples and number of new examples as weights."
   ]
  },
  {
   "cell_type": "code",
   "execution_count": 25,
   "id": "3f052e40-1f8c-4d3e-8903-7bad31774686",
   "metadata": {},
   "outputs": [
    {
     "name": "stdout",
     "output_type": "stream",
     "text": [
      "done 1\n",
      "done 2\n",
      "done 3\n",
      "done 4\n",
      "done 5\n",
      "done 6\n",
      "done 7\n",
      "done 8\n",
      "done 9\n",
      "done 10\n"
     ]
    }
   ],
   "source": [
    "import pickle\n",
    "qda=QDAClassifier()\n",
    "qda.fit(X_train[0], y_train_1)\n",
    "pickle.dump(qda, open(f\"f1_qda.pkl\", \"wb\"))\n",
    "print(\"done 1\")\n",
    "for i in range(1,10):\n",
    "    qda.update(X_train[i])\n",
    "    pickle.dump(qda, open(f\"f{i+1}_qda.pkl\",\"wb\"))\n",
    "    print(f\"done {i+1}\")"
   ]
  },
  {
   "cell_type": "code",
   "execution_count": 26,
   "id": "8b2d599d-e82a-4097-bd20-8e864905dbfa",
   "metadata": {},
   "outputs": [
    {
     "name": "stdout",
     "output_type": "stream",
     "text": [
      "[[85.88  0.    0.    0.    0.    0.    0.    0.    0.    0.  ]\n",
      " [84.96 85.8   0.    0.    0.    0.    0.    0.    0.    0.  ]\n",
      " [84.24 85.6  85.04  0.    0.    0.    0.    0.    0.    0.  ]\n",
      " [83.8  85.4  84.24 84.28  0.    0.    0.    0.    0.    0.  ]\n",
      " [83.52 85.4  84.04 83.52 84.4   0.    0.    0.    0.    0.  ]\n",
      " [83.24 84.72 83.4  83.44 84.2  85.2   0.    0.    0.    0.  ]\n",
      " [83.2  84.56 83.44 83.12 84.04 84.8  83.08  0.    0.    0.  ]\n",
      " [83.16 84.12 82.92 82.88 83.64 84.36 82.6  84.08  0.    0.  ]\n",
      " [82.96 84.08 82.64 82.84 83.44 84.2  82.6  83.88 82.72  0.  ]\n",
      " [82.84 84.04 82.52 82.72 83.32 83.8  82.44 83.64 82.72 83.8 ]]\n"
     ]
    }
   ],
   "source": [
    "model_list=[pickle.load(open(f'f{i+1}_qda.pkl','rb')) for i in range(10)]\n",
    "\n",
    "accuracies=np.zeros((10,10))\n",
    "for i in range(10):\n",
    "    for j in range(i+1):\n",
    "        prediction=model_list[i].predict(X_eval[j])\n",
    "        accuracies[i][j]=np.mean(prediction == y_test[j])*100\n",
    "\n",
    "print(accuracies)\n",
    "with open('accuracies1.pkl', 'wb') as f:\n",
    "    pickle.dump(accuracies, f)"
   ]
  },
  {
   "cell_type": "markdown",
   "id": "c5c6ec87-e97d-4f53-b7f1-38862d8c157e",
   "metadata": {},
   "source": [
    "This is the matrix of the accuracies obtained."
   ]
  }
 ],
 "metadata": {
  "kernelspec": {
   "display_name": "Python 3 (ipykernel)",
   "language": "python",
   "name": "python3"
  },
  "language_info": {
   "codemirror_mode": {
    "name": "ipython",
    "version": 3
   },
   "file_extension": ".py",
   "mimetype": "text/x-python",
   "name": "python",
   "nbconvert_exporter": "python",
   "pygments_lexer": "ipython3",
   "version": "3.12.7"
  }
 },
 "nbformat": 4,
 "nbformat_minor": 5
}
